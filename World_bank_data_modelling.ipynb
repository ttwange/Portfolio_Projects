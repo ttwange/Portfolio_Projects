{
 "cells": [
  {
   "cell_type": "code",
   "execution_count": null,
   "id": "feb8c671",
   "metadata": {},
   "outputs": [],
   "source": [
    "import pandas as pd\n",
    "import psycopg2"
   ]
  },
  {
   "cell_type": "code",
   "execution_count": null,
   "id": "99c99878",
   "metadata": {},
   "outputs": [],
   "source": [
    "def create_database():\n",
    "    #connect to  default database\n",
    "    #conn = psycpg2.connect(\"host=127.0.0.1 dbname=studentdb user=student password=student\")\n",
    "    conn = psycopg2.connect(\"host=127.0.0.1 dbname=postgres user=postgres password=POSTGRES99\")\n",
    "    conn.set_session(autocommit=True)\n",
    "    cur = conn.cursor()\n",
    "    \n",
    "    #create sparkify database with UTF8 encoding\n",
    "    cur.execute(\"DROP DATABASE worldbank\")\n",
    "    cur.execute(\"CREATE DATABASE worldbank\")\n",
    "    \n",
    "    #close connection to default database\n",
    "    conn.close()\n",
    "    \n",
    "    #connection to sparkify database\n",
    "    conn = psycopg2.connect(\"host=127.0.0.1 dbname=worldbank user=postgres password=POSTGRES99\")\n",
    "    cur = conn.cursor()\n",
    "    \n",
    "    return cur,conn\n",
    "    "
   ]
  },
  {
   "cell_type": "code",
   "execution_count": null,
   "id": "eab3cf44",
   "metadata": {},
   "outputs": [],
   "source": [
    "def drop_tables(cur,conn):\n",
    "    for query in drop_table_query:\n",
    "        cur.execute(query)\n",
    "        conn.commit()"
   ]
  },
  {
   "cell_type": "code",
   "execution_count": null,
   "id": "8bf3ab31",
   "metadata": {},
   "outputs": [],
   "source": [
    "def create_tables(cur,conn):\n",
    "    for query in create_table_query:\n",
    "        cur.execute(query)\n",
    "        conn.commit()"
   ]
  },
  {
   "cell_type": "code",
   "execution_count": null,
   "id": "0bbe0178",
   "metadata": {},
   "outputs": [],
   "source": [
    "reserve = pd.read_csv(r\"C:\\Users\\User\\OneDrive\\Desktop\\reserve_asset.csv\")"
   ]
  },
  {
   "cell_type": "code",
   "execution_count": null,
   "id": "ddef4e67",
   "metadata": {},
   "outputs": [],
   "source": [
    "reserve_clean = reserve[['Country Name', 'Indicator Name', '2019', '2020', '2021']]"
   ]
  },
  {
   "cell_type": "code",
   "execution_count": null,
   "id": "542eab37",
   "metadata": {},
   "outputs": [],
   "source": [
    "reserve_clean.head()"
   ]
  },
  {
   "cell_type": "code",
   "execution_count": null,
   "id": "38273261",
   "metadata": {},
   "outputs": [],
   "source": [
    "loans = pd.read_csv(r\"C:\\Users\\User\\OneDrive\\Desktop\\loans.csv\")"
   ]
  },
  {
   "cell_type": "code",
   "execution_count": null,
   "id": "9b62b156",
   "metadata": {},
   "outputs": [],
   "source": [
    "loans_clean = loans[['Country Name', 'Indicator Name', '2019', '2020', '2021']]"
   ]
  },
  {
   "cell_type": "code",
   "execution_count": null,
   "id": "9e968b28",
   "metadata": {},
   "outputs": [],
   "source": [
    "loans_clean.tail()"
   ]
  },
  {
   "cell_type": "code",
   "execution_count": null,
   "id": "3e26f59f",
   "metadata": {},
   "outputs": [],
   "source": [
    "capital = pd.read_csv(r\"C:\\Users\\User\\OneDrive\\Desktop\\capital_asset.csv\")"
   ]
  },
  {
   "cell_type": "code",
   "execution_count": null,
   "id": "3232cab6",
   "metadata": {},
   "outputs": [],
   "source": [
    "capital_clean = capital[['Country Name', 'Indicator Name', '2019', '2020', '2021']]"
   ]
  },
  {
   "cell_type": "code",
   "execution_count": null,
   "id": "1d66c02d",
   "metadata": {},
   "outputs": [],
   "source": [
    "capital_clean.tail()"
   ]
  },
  {
   "cell_type": "code",
   "execution_count": null,
   "id": "48aaf622",
   "metadata": {},
   "outputs": [],
   "source": [
    "cur, conn = create_database()"
   ]
  },
  {
   "cell_type": "code",
   "execution_count": null,
   "id": "3c82ddd9",
   "metadata": {},
   "outputs": [],
   "source": [
    "reserve_table_create = (\"\"\"CREATE TABLE IF NOT EXISTS reserve(\n",
    "Country_Name VARCHAR PRIMARY KEY, \n",
    "Indicator_Name VARCHAR, \n",
    "YEAR_2019 INT, \n",
    "YEAR_2020 INT, \n",
    "YEAR_2021 INT\n",
    ")\"\"\")"
   ]
  },
  {
   "cell_type": "code",
   "execution_count": null,
   "id": "ff246630",
   "metadata": {},
   "outputs": [],
   "source": [
    "cur.execute(reserve_table_create)\n",
    "conn.commit()"
   ]
  },
  {
   "cell_type": "code",
   "execution_count": null,
   "id": "6c7f8c92",
   "metadata": {},
   "outputs": [],
   "source": [
    "loans_table_create = (\"\"\"CREATE TABLE IF NOT EXISTS loans(\n",
    "Country_Name VARCHAR , \n",
    "Indicator_Name VARCHAR, \n",
    "YEAR_2019 INT, \n",
    "YEAR_2020 INT, \n",
    "YEAR_2021 INT\n",
    ")\"\"\")"
   ]
  },
  {
   "cell_type": "code",
   "execution_count": null,
   "id": "41dc9891",
   "metadata": {},
   "outputs": [],
   "source": [
    "cur.execute(loans_table_create)\n",
    "conn.commit()"
   ]
  },
  {
   "cell_type": "code",
   "execution_count": null,
   "id": "62536d47",
   "metadata": {},
   "outputs": [],
   "source": [
    "capital_table_create = (\"\"\"CREATE TABLE IF NOT EXISTS capital(\n",
    "Country_Name VARCHAR, \n",
    "Indicator_Name VARCHAR, \n",
    "YEAR_2019 INT, \n",
    "YEAR_2020 INT, \n",
    "YEAR_2021 INT\n",
    ")\"\"\")"
   ]
  },
  {
   "cell_type": "code",
   "execution_count": null,
   "id": "3f0985fb",
   "metadata": {},
   "outputs": [],
   "source": [
    "cur.execute(capital_table_create)\n",
    "conn.commit()"
   ]
  },
  {
   "cell_type": "code",
   "execution_count": null,
   "id": "b095d03a",
   "metadata": {},
   "outputs": [],
   "source": [
    "loans_table_insert = (\"\"\"INSERT INTO loans(\n",
    "Country_Name , \n",
    "Indicator_Name, \n",
    "YEAR_2019, \n",
    "YEAR_2020, \n",
    "YEAR_2021)\n",
    "VALUES (%s,%s,%s,%s,%s)\n",
    "\"\"\")"
   ]
  },
  {
   "cell_type": "code",
   "execution_count": null,
   "id": "88f1778e",
   "metadata": {},
   "outputs": [],
   "source": [
    "for i, row in loans_clean.iterrows():\n",
    "    cur.execute(loans_table_insert, list(row))"
   ]
  },
  {
   "cell_type": "code",
   "execution_count": null,
   "id": "85c1d6ad",
   "metadata": {},
   "outputs": [],
   "source": [
    "reserve_table_insert = (\"\"\"INSERT INTO reserve(\n",
    "Country_Name , \n",
    "Indicator_Name, \n",
    "YEAR_2019, \n",
    "YEAR_2020, \n",
    "YEAR_2021)\n",
    "VALUES (%s,%s,%s,%s,%s)\n",
    "\"\"\")"
   ]
  },
  {
   "cell_type": "code",
   "execution_count": null,
   "id": "487d9597",
   "metadata": {},
   "outputs": [],
   "source": [
    "for i, row in reserve_clean.iterrows():\n",
    "    cur.execute(reserve_table_insert, list(row))"
   ]
  },
  {
   "cell_type": "code",
   "execution_count": null,
   "id": "768ead83",
   "metadata": {},
   "outputs": [],
   "source": [
    "capital_table_insert = (\"\"\"INSERT INTO reserve(\n",
    "Country_Name , \n",
    "Indicator_Name, \n",
    "YEAR_2019, \n",
    "YEAR_2020, \n",
    "YEAR_2021)\n",
    "VALUES (%s,%s,%s,%s,%s)\n",
    "\"\"\")"
   ]
  },
  {
   "cell_type": "code",
   "execution_count": null,
   "id": "df04ce9d",
   "metadata": {},
   "outputs": [],
   "source": [
    "for i, row in capital_clean.iterrows():\n",
    "    cur.execute(capital_table_insert, list(row))"
   ]
  },
  {
   "cell_type": "code",
   "execution_count": null,
   "id": "091f95e1",
   "metadata": {},
   "outputs": [],
   "source": [
    "conn.commit()"
   ]
  },
  {
   "cell_type": "code",
   "execution_count": null,
   "id": "9b52a522",
   "metadata": {},
   "outputs": [],
   "source": [
    "cur.close()\n",
    "conn.close()"
   ]
  }
 ],
 "metadata": {
  "kernelspec": {
   "display_name": "Python 3 (ipykernel)",
   "language": "python",
   "name": "python3"
  },
  "language_info": {
   "codemirror_mode": {
    "name": "ipython",
    "version": 3
   },
   "file_extension": ".py",
   "mimetype": "text/x-python",
   "name": "python",
   "nbconvert_exporter": "python",
   "pygments_lexer": "ipython3",
   "version": "3.9.12"
  }
 },
 "nbformat": 4,
 "nbformat_minor": 5
}
