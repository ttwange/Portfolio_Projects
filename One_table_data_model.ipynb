{
 "cells": [
  {
   "cell_type": "markdown",
   "id": "0a358ea7",
   "metadata": {},
   "source": [
    "# A simple one table data model database.\n",
    "\n",
    "For this project i used python anaconda and postgres as the database for this project."
   ]
  },
  {
   "cell_type": "code",
   "execution_count": 2,
   "id": "58cf3c79",
   "metadata": {},
   "outputs": [],
   "source": [
    "import psycopg2 "
   ]
  },
  {
   "cell_type": "markdown",
   "id": "04b11aa8",
   "metadata": {},
   "source": [
    "# Create a connection to the database"
   ]
  },
  {
   "cell_type": "code",
   "execution_count": 4,
   "id": "ea483d37",
   "metadata": {},
   "outputs": [],
   "source": [
    "try:\n",
    "    conn = psycopg2.connect(\"host=127.0.0.1 dbname=postgres user=postgres password=POSTGRES99\")\n",
    "except psycopg2.Error as e:\n",
    "    print(\"Error: Could not make a connection to the Postgres database\")\n",
    "    print(e)"
   ]
  },
  {
   "cell_type": "markdown",
   "id": "9b4a6709",
   "metadata": {},
   "source": [
    "# Use the connection to get a cursor that can be used to execute queries"
   ]
  },
  {
   "cell_type": "code",
   "execution_count": 5,
   "id": "ce18747c",
   "metadata": {},
   "outputs": [],
   "source": [
    "try:\n",
    "    cur = conn.cursor()\n",
    "except psycopg2.Error as e:\n",
    "    print(\"Error: Could not get cursor to the database\")\n",
    "    print(e)"
   ]
  },
  {
   "cell_type": "markdown",
   "id": "dccdae6b",
   "metadata": {},
   "source": [
    "# Set autocommit commit to be true so that each action is committedd without having to call conn.commit() after eaach command"
   ]
  },
  {
   "cell_type": "code",
   "execution_count": 6,
   "id": "444fea46",
   "metadata": {},
   "outputs": [],
   "source": [
    "conn.set_session(autocommit=True)"
   ]
  },
  {
   "cell_type": "markdown",
   "id": "b9e0c2bb",
   "metadata": {},
   "source": [
    "# Create a database to work in"
   ]
  },
  {
   "cell_type": "code",
   "execution_count": 9,
   "id": "9c496167",
   "metadata": {},
   "outputs": [
    {
     "name": "stdout",
     "output_type": "stream",
     "text": [
      "database \"myfirstdb\" already exists\n",
      "\n"
     ]
    }
   ],
   "source": [
    "try:\n",
    "    cur.execute(\"Create database myfirstdb\")\n",
    "except psycopg2.Error as e:\n",
    "    print(e)"
   ]
  },
  {
   "cell_type": "markdown",
   "id": "78d8af5b",
   "metadata": {},
   "source": [
    "# Close the default database connection, connect to myfirstdb and get a new cursor"
   ]
  },
  {
   "cell_type": "code",
   "execution_count": 10,
   "id": "abe20853",
   "metadata": {},
   "outputs": [],
   "source": [
    "try:\n",
    "    conn =psycopg2.connect(\"host=127.0.0.1 dbname=postgres user=postgres password=POSTGRES99\")\n",
    "except psycopg2.Error as e:\n",
    "    print(e)\n",
    "    \n",
    "try:\n",
    "    conn = psycopg2.connect(\"host=127.0.0.1 dbname=myfirstdb user=postgres password=POSTGRES99\")\n",
    "except psycopg2.Error as e:\n",
    "    print(\"Error: Could not make a connection to the Postgres database\")\n",
    "    print(e)\n",
    "    \n",
    "try:\n",
    "    cur = conn.cursor()\n",
    "except psycopg2.Error as e:\n",
    "    print(\"Error: Could not get cursor to the database\")\n",
    "    print(e)\n",
    "    \n",
    "conn.set_session(autocommit=True)"
   ]
  },
  {
   "cell_type": "markdown",
   "id": "ebb83246",
   "metadata": {},
   "source": [
    "# Create Table for students which includes below columns"
   ]
  },
  {
   "cell_type": "markdown",
   "id": "3dd8939a",
   "metadata": {},
   "source": [
    "student_id\n",
    "\n",
    "name\n",
    "\n",
    "age\n",
    "\n",
    "gender\n",
    "\n",
    "subject\n",
    "\n",
    "marks"
   ]
  },
  {
   "cell_type": "code",
   "execution_count": 11,
   "id": "85c1ae94",
   "metadata": {},
   "outputs": [],
   "source": [
    "try:\n",
    "    cur.execute(\"CREATE TABLE IF NOT EXISTS students(student_id int,name varchar,age int,gender varchar,subject varchar,marks int)\")\n",
    "except psycopg2.Error as e:\n",
    "    print(\"Error: Issue creating table\")\n",
    "    print(e)"
   ]
  },
  {
   "cell_type": "markdown",
   "id": "2ed40ed9",
   "metadata": {},
   "source": [
    "# Insert data into the database"
   ]
  },
  {
   "cell_type": "markdown",
   "id": "5a01c4dd",
   "metadata": {},
   "source": [
    "First Row: 1, 'thon',21,'Python',85\n",
    "    \n",
    "Second Row: 2, 'twange',20,'Java',86"
   ]
  },
  {
   "cell_type": "code",
   "execution_count": 12,
   "id": "49c18f97",
   "metadata": {},
   "outputs": [],
   "source": [
    "try:\n",
    "    cur.execute(\"INSERT INTO students(student_id,name,age,gender,subject,marks) Values(%s,%s,%s,%s,%s,%s)\",(1,\"thon\",21,\"male\",\"python\",85))\n",
    "except psycopg2.Error as e:\n",
    "    print(\"Error: Issue inserting row\")\n",
    "    print(e)\n",
    "    \n",
    "try:\n",
    "    cur.execute(\"INSERT INTO students(student_id,name,age,gender,subject,marks) Values(%s,%s,%s,%s,%s,%s)\",(2,\"sham\",20,\"male\",\"java\",86))\n",
    "except psycopg2.Error as e:\n",
    "    print(\"Error: Issue inserting row\")\n",
    "    print(e)"
   ]
  },
  {
   "cell_type": "markdown",
   "id": "d5752224",
   "metadata": {},
   "source": [
    "# Validating data in the database"
   ]
  },
  {
   "cell_type": "code",
   "execution_count": 13,
   "id": "fffe4da6",
   "metadata": {},
   "outputs": [
    {
     "name": "stdout",
     "output_type": "stream",
     "text": [
      "(1, 'thon', 21, 'male', 'python', 85)\n",
      "(2, 'sham', 20, 'male', 'java', 86)\n"
     ]
    }
   ],
   "source": [
    "try:\n",
    "    cur.execute(\"SELECT * FROM students;\")\n",
    "except psycopg2.Error as e:\n",
    "    print(\"Error: Issue selecting\")\n",
    "    print(e)\n",
    "    \n",
    "row = cur.fetchone()\n",
    "while row:\n",
    "    print(row)\n",
    "    row =cur.fetchone()"
   ]
  },
  {
   "cell_type": "markdown",
   "id": "4f65fb6e",
   "metadata": {},
   "source": [
    "# Finally close cursor and connection"
   ]
  },
  {
   "cell_type": "code",
   "execution_count": 14,
   "id": "77a83c06",
   "metadata": {},
   "outputs": [],
   "source": [
    "cur.close()\n",
    "conn.close()"
   ]
  },
  {
   "cell_type": "code",
   "execution_count": null,
   "id": "91e8f541",
   "metadata": {},
   "outputs": [],
   "source": []
  }
 ],
 "metadata": {
  "kernelspec": {
   "display_name": "Python 3.10.7 64-bit",
   "language": "python",
   "name": "python3"
  },
  "language_info": {
   "codemirror_mode": {
    "name": "ipython",
    "version": 3
   },
   "file_extension": ".py",
   "mimetype": "text/x-python",
   "name": "python",
   "nbconvert_exporter": "python",
   "pygments_lexer": "ipython3",
   "version": "3.10.7"
  },
  "vscode": {
   "interpreter": {
    "hash": "afb734500600fd355917ca529030176ea0ca205570884b88f2f6f7d791fd3fbe"
   }
  }
 },
 "nbformat": 4,
 "nbformat_minor": 5
}
